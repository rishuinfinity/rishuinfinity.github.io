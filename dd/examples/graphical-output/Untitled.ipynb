{
 "cells": [
  {
   "cell_type": "code",
   "execution_count": null,
   "metadata": {},
   "outputs": [],
   "source": [
    "\n",
    "import socket\n",
    "import ssl\n",
    "import http.server\n",
    "import os\n",
    "server_address = ('0.0.0.0', 9000)\n",
    "\n",
    "hostname = socket.gethostname()\n",
    "local_ip = socket.gethostbyname(hostname)\n",
    "\n",
    "print(\"Open https://localhost:9000\")\n",
    "print('Open https://' + local_ip + ':9000')\n",
    "\n",
    "\n",
    "#os.chdir(\"./dist/\")\n",
    "\n",
    "class CORSHTTPRequestHandler(http.server.SimpleHTTPRequestHandler):\n",
    "    extensions_map = {\n",
    "        '': 'application/octet-stream',\n",
    "        '.manifest': 'text/cache-manifest',\n",
    "        '.html': 'text/html',\n",
    "        '.png': 'image/png',\n",
    "        '.jpg': 'image/jpg',\n",
    "        '.svg':\t'image/svg+xml',\n",
    "        '.css':\t'text/css',\n",
    "        '.js': 'application/x-javascript',\n",
    "        '.wasm': 'application/wasm',\n",
    "        '.json': 'application/json',\n",
    "        '.xml': 'application/xml',\n",
    "    }\n",
    "\n",
    "    def end_headers(self):\n",
    "        # Include additional response headers here. CORS for example:\n",
    "        self.send_header('Access-Control-Allow-Origin', '*')\n",
    "        self.send_header('Cross-Origin-Opener-Policy', 'same-origin')\n",
    "        self.send_header('Cross-Origin-Embedder-Policy', 'require-corp')\n",
    "        http.server.SimpleHTTPRequestHandler.end_headers(self)\n",
    "\n",
    "httpd = http.server.HTTPServer(server_address, CORSHTTPRequestHandler)\n",
    "ctx = ssl.SSLContext(ssl.PROTOCOL_TLS_SERVER)\n",
    "ctx.check_hostname = False\n",
    "ctx.load_cert_chain(certfile='localhost.pem')  # with key inside\n",
    "httpd.socket = ctx.wrap_socket(httpd.socket, server_side=True)\n",
    "httpd.serve_forever()\n"
   ]
  },
  {
   "cell_type": "code",
   "execution_count": null,
   "metadata": {},
   "outputs": [],
   "source": []
  }
 ],
 "metadata": {
  "kernelspec": {
   "display_name": "Python 3",
   "language": "python",
   "name": "python3"
  }
 },
 "nbformat": 4,
 "nbformat_minor": 4
}
